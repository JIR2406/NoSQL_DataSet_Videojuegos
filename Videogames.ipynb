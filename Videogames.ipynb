{
    "cells": [
        {
            "cell_type": "markdown",
            "metadata": {},
            "source": [
                "# Sistema de información estructurado y semi-estructurado\n",
                "\n",
                "### Instituto Tecnológico de Toluca\n",
                "\n",
                "### Números de Control:\n",
                "- **21280622**\n",
                "- **21281153**\n",
                "- **21281281**\n",
                "\n",
                "### Proyecto hecho por:\n",
                "- **Mario Pérez Hernández**\n",
                "- **Jair**\n",
                "- **Jefte Donovan**\n"
            ]
        },
        {
            "cell_type": "markdown",
            "metadata": {},
            "source": [
                "<p>Este código convierte un archivo CSV llamado <code>vgsales.csv</code> en un archivo XML llamado <code>vgsales.xml</code>. A continuación se explica cada parte del proceso:</p>\n",
                "<ul>\n",
                "    <li><strong>Importación de librerías:</strong> Se importan <code>pandas</code> para manipular datos y <code>xml.etree.ElementTree</code> para crear el archivo XML.</li>\n",
                "    <li><strong>Lectura del archivo CSV:</strong> Se lee el archivo <code>vgsales.csv</code> usando <code>pandas.read_csv</code>, almacenando los datos en un DataFrame llamado <code>df</code>.</li>\n",
                "    <li><strong>Creación del elemento raíz:</strong> Se crea el elemento raíz del XML llamado <code>&lt;vgsales&gt;</code>.</li>\n",
                "    <li><strong>Conversión de filas a elementos XML:</strong> Se itera sobre cada fila del DataFrame. Por cada fila, se crea un elemento <code>&lt;game&gt;</code>. Luego, para cada columna, se crea un subelemento con el nombre de la columna y el valor correspondiente de la fila.</li>\n",
                "    <li><strong>Escritura del archivo XML:</strong> Se crea un árbol XML con el elemento raíz y se escribe en el archivo <code>vgsales.xml</code> con codificación UTF-8 y declaración XML.</li>\n",
                "    <li><strong>Mensaje de confirmación:</strong> Se imprime un mensaje indicando que el archivo XML se generó correctamente.</li>\n",
                "</ul>\n",
                "<p>Este proceso es útil para transformar datos tabulares en un formato jerárquico como XML, facilitando su integración con otros sistemas o aplicaciones que requieran este formato.</p>\n",
                "<p>A continuación se propone el código ejecutable para crear el XML.</p>\n"
            ]
        },
        {
            "cell_type": "code",
            "metadata": {
                "kernelspec": {
                    "display_name": "nosql",
                    "language": "python",
                    "name": "python3"
                },
                "language_info": {
                    "name": "python",
                    "version": "3.13.2"
                }
            },
            "source": [
                "import pandas as pd\n",
                "import xml.etree.ElementTree as ET\n",
                "\n",
                "# Leer el archivo CSV\n",
                "df = pd.read_csv(\"vgsales.csv\")\n",
                "\n",
                "# Crear el elemento raíz\n",
                "root = ET.Element(\"vgsales\")\n",
                "\n",
                "# Iterar sobre cada fila y agregar los datos al XML\n",
                "for _, row in df.iterrows():\n",
                "    game = ET.SubElement(root, \"game\")\n",
                "    for col in df.columns:\n",
                "        ET.SubElement(game, col).text = str(row[col])\n",
                "\n",
                "# Crear árbol y escribir en el archivo XML\n",
                "tree = ET.ElementTree(root)\n",
                "tree.write(\"vgsales.xml\", encoding=\"utf-8\", xml_declaration=True)\n",
                "\n",
                "print(\"El archivo XML 'vgsales.xml' se ha generado correctamente.\")\n"
            ]
        }
    ],
    "metadata": {
        "kernelspec": {
            "display_name": "nosql",
            "language": "python",
            "name": "python3"
        },
        "language_info": {
            "name": "python",
            "version": "3.13.2"
        }
    },
    "nbformat": 4,
    "nbformat_minor": 5
}
