{
 "cells": [
  {
   "cell_type": "markdown",
   "id": "3b8b1f14",
   "metadata": {},
   "source": [
    "<p style=\"text-align: center;\">\n",
    "    <a>\n",
    "        <img src=\"./figuras/sonic.jpeg\" width=\"200\" style=\"float: right;\" />\n",
    "    </a>\n",
    "</p>\n",
    "\n",
    "# Sistema de información estructurado y semi-estructurado.\n",
    "\n",
    "### Instituto Tecnologico de Toluca\n",
    "\n",
    "### Numeros de  Control: \n",
    "### 21280622\n",
    "### 21281153\n",
    "### 21281281\n",
    "\n",
    "### Proyecto hecho por : Mario Perez Hernandez Jair y Donovan\n"
   ]
  }
 ],
 "metadata": {
  "kernelspec": {
   "display_name": "nosql",
   "language": "python",
   "name": "python3"
  },
  "language_info": {
   "name": "python",
   "version": "3.13.2"
  }
 },
 "nbformat": 4,
 "nbformat_minor": 5
}
