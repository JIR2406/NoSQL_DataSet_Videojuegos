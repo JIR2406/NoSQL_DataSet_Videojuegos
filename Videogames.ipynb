{
 "cells": [
  {
   "cell_type": "markdown",
   "id": "3b8b1f14",
   "metadata": {},
   "source": [
    "<p style=\"text-align: center;\">\n",
    "    <a>\n",
    "        <img src=\"./sonic.jpeg\" width=\"200\" style=\"float: right;\" />\n",
    "    </a>\n",
    "</p>\n",
    "\n",
    "# Sistema de información estructurado y semi-estructurado.\n",
    "\n",
    "### Instituto Tecnologico de Toluca\n",
    "\n",
    "### Numeros de  Control: \n",
    "### 21280622\n",
    "### 21281153\n",
    "### 21281281\n",
    "\n",
    "### Proyecto hecho por : Mario Perez Hernandez Jair y Donovan\n"
   ]
  }
 ],
 "metadata": {
  "kernelspec": {
   "display_name": "nosql",
   "language": "python",
   "name": "python3"
  },
  "language_info": {
   "name": "python",
   "version": "3.13.2"
  }
 },
 "nbformat": 4,
 "nbformat_minor": 5
}

{
 "cell_type": "markdown",
 "metadata": {},
 "source": [
    "<p>Este código convierte un archivo CSV llamado <code>vgsales.csv</code> en un archivo XML llamado <code>vgsales.xml</code>. A continuación se explica cada parte del proceso:</p>\n",
    "<ul>\n",
    "    <li><strong>Importación de librerías:</strong><br>\n",
    "        Se importan <code>pandas</code> para manipular datos y <code>xml.etree.ElementTree</code> para crear el archivo XML.\n",
    "    </li>\n",
    "    <li><strong>Lectura del archivo CSV:</strong><br>\n",
    "        Se lee el archivo <code>vgsales.csv</code> usando <code>pandas.read_csv</code>, almacenando los datos en un DataFrame llamado <code>df</code>.\n",
    "    </li>\n",
    "    <li><strong>Creación del elemento raíz:</strong><br>\n",
    "        Se crea el elemento raíz del XML llamado <code>&lt;vgsales&gt;</code>.\n",
    "    </li>\n",
    "    <li><strong>Conversión de filas a elementos XML:</strong><br>\n",
    "        Se itera sobre cada fila del DataFrame. Por cada fila, se crea un elemento <code>&lt;game&gt;</code>. Luego, para cada columna, se crea un subelemento con el nombre de la columna y el valor correspondiente de la fila.\n",
    "    </li>\n",
    "    <li><strong>Escritura del archivo XML:</strong><br>\n",
    "        Se crea un árbol XML con el elemento raíz y se escribe en el archivo <code>vgsales.xml</code> con codificación UTF-8 y declaración XML.\n",
    "    </li>\n",
    "    <li><strong>Mensaje de confirmación:</strong><br>\n",
    "        Se imprime un mensaje indicando que el archivo XML se generó correctamente.\n",
    "    </li>\n",
    "</ul>\n",
    "<p>Este proceso es útil para transformar datos tabulares en un formato jerárquico como XML, facilitando su integración con otros sistemas o aplicaciones que requieran este formato.</p>\n",
    "<p>A continuación se propone el código ejecutable para crear el XML.</p>\n"
 ]
}
