{
    "cells": [
        {
            "cell_type": "markdown",
            "id": "a271fce2",
            "metadata": {},
            "source": [
                "<p style=\"text-align: center;\">\n",
                "    <a>\n",
                "        <img src=\"./sonic.jpeg\" width=\"200\" style=\"float: right;\" />\n",
                "    </a>\n",
                "</p>\n",
                "\n",
                "# Sistema de información estructurado y semi-estructurado.\n",
                "\n",
                "### Instituto Tecnologico de Toluca\n",
                "\n",
                "### Numeros de  Control: \n",
                "* 21280622\n",
                "* 21281153\n",
                "* 21281281\n",
                "\n",
                "### Proyecto hecho por : \n",
                "* Mario Perez Hernandez \n",
                "* Jair Garduño Arsate\n",
                "* Jefte Donovan Garcia Gonzalez\n"
            ]
        },
        {
            "cell_type": "markdown",
            "id": "139f50ac",
            "metadata": {},
            "source": [
                "# Introducción al Proyecto\n",
                "\n",
                "En este proyecto, exploramos y analizamos un sistema de información estructurado y semi-estructurado utilizando datos del conjunto de videojuegos disponible en [Kaggle](https://www.kaggle.com/datasets/sagayaabinesh/videogames/data). El objetivo principal es demostrar cómo se puede transformar, almacenar y manipular información proveniente de fuentes estructuradas (como archivos CSV y bases de datos relacionales) y semi-estructuradas (como archivos XML).\n",
                "\n",
                "A través de este trabajo, se busca:\n",
                "\n",
                "- Comprender la importancia de los sistemas de información en la gestión y análisis de datos.\n",
                "- Aplicar técnicas para convertir datos entre diferentes formatos.\n",
                "- Utilizar herramientas como pandas, SQLite y XML en Python para el procesamiento de datos.\n",
                "- Analizar el conjunto de datos de ventas de videojuegos para extraer información relevante y patrones de interés.\n",
                "\n",
                "Este enfoque permite visualizar el ciclo completo de manejo de datos, desde la adquisición hasta la transformación y almacenamiento en distintos formatos, resaltando la versatilidad y utilidad de los sistemas de información en la actualidad.\n",
                "\n",
                "A continuacion la generacion de la base de datos en base a codigo python:\n",
                "\n",
                "# Codigo de creacion"
            ]
        },
        {
            "cell_type": "code",
            "execution_count": 1,
            "id": "7f4f2d1b",
            "metadata": {},
            "outputs": [],
            "source": [
                "import sqlite3\n",
                "import pandas as pd\n",
                "\n",
                "# Crear/conectar a la base de datos 'videojuegos.db'\n",
                "conn = sqlite3.connect('videojuegos.db')\n",
                "\n",
                "# Leer el archivo CSV\n",
                "df = pd.read_csv(\"dataset/vgsales.csv\")\n",
                "\n",
                "# Guardar el DataFrame en la base de datos como tabla 'datos'\n",
                "df.to_sql('datos', conn, if_exists='replace', index=False)\n",
                "\n",
                "# Cerrar la conexión\n",
                "conn.close()"
            ]
        },
        {
            "cell_type": "markdown",
            "id": "4720915a",
            "metadata": {},
            "source": [
                "## ¿Por qué se eligió esta base de datos?\n",
                "\n",
                "Esta base de datos fue seleccionada porque contiene información estructurada y detallada sobre ventas de videojuegos a nivel mundial, incluyendo variables clave como nombre, plataforma, año, género, editor, y ventas por región. Esto la convierte en una fuente ideal para analizar patrones de consumo, tendencias históricas y diferencias regionales, además de permitir la aplicación de técnicas de procesamiento tanto en sistemas estructurados (bases de datos relacionales) como semi-estructurados (XML). Su riqueza y variedad de datos la hacen adecuada para demostrar la versatilidad de los sistemas de información en el análisis y gestión de datos reales.\n",
                "\n",
                "## Preguntas para Casos de Uso\n",
                "\n",
                "1. **¿Cuáles son los videojuegos más vendidos a nivel global y por región?**  \n",
                "    Permite identificar títulos exitosos y analizar tendencias de consumo en diferentes mercados.\n",
                "\n",
                "2. **¿Qué géneros de videojuegos predominan en las ventas globales y regionales?**  \n",
                "    Ayuda a comprender las preferencias de los usuarios según la región y orientar estrategias de desarrollo o marketing.\n",
                "\n",
                "3. **¿Cómo han evolucionado las ventas de videojuegos a lo largo de los años?**  \n",
                "    Facilita el análisis de tendencias históricas y la identificación de periodos de auge o declive en la industria.\n",
                "\n",
                "4. **¿Qué plataformas han sido las más exitosas en términos de ventas?**  \n",
                "    Permite evaluar el impacto de diferentes consolas y orientar decisiones de lanzamiento de nuevos títulos.\n",
                "\n",
                "5. **¿Qué editoras han publicado la mayor cantidad de juegos exitosos?**  \n",
                "    Ayuda a identificar líderes del mercado y posibles socios estratégicos.\n",
                "\n",
                "6. **¿Existen diferencias significativas en las ventas de videojuegos entre regiones como Norteamérica, Europa y Japón?**  \n",
                "    Permite adaptar estrategias de localización y distribución.\n",
                "\n",
                "\n",
                "A continuacion se creara su base de datos en formato XML, que contendrá la información de los videojuegos y sus ventas. Este formato es adecuado para representar datos estructurados y semi-estructurados, facilitando su análisis y manipulación.\n",
                "\n",
                "## Codigo XML para la Base de Datos de Videojuegos"
            ]
        },
        {
            "cell_type": "markdown",
            "id": "447c4be9",
            "metadata": {},
            "source": [
                "<p>Este código convierte un archivo CSV llamado <code>vgsales.csv</code> en un archivo XML llamado <code>vgsales.xml</code>. A continuación se explica cada parte del proceso:</p>\n",
                "<ul>\n",
                "    <li><strong>Importación de librerías:</strong> Se importan <code>pandas</code> para manipular datos y <code>xml.etree.ElementTree</code> para crear el archivo XML.</li>\n",
                "    <li><strong>Lectura del archivo CSV:</strong> Se lee el archivo <code>vgsales.csv</code> usando <code>pandas.read_csv</code>, almacenando los datos en un DataFrame llamado <code>df</code>.</li>\n",
                "    <li><strong>Creación del elemento raíz:</strong> Se crea el elemento raíz del XML llamado <code>&lt;vgsales&gt;</code>.</li>\n",
                "    <li><strong>Conversión de filas a elementos XML:</strong> Se itera sobre cada fila del DataFrame. Por cada fila, se crea un elemento <code>&lt;game&gt;</code>. Luego, para cada columna, se crea un subelemento con el nombre de la columna y el valor correspondiente de la fila.</li>\n",
                "    <li><strong>Escritura del archivo XML:</strong> Se crea un árbol XML con el elemento raíz y se escribe en el archivo <code>vgsales.xml</code> con codificación UTF-8 y declaración XML.</li>\n",
                "    <li><strong>Mensaje de confirmación:</strong> Se imprime un mensaje indicando que el archivo XML se generó correctamente.</li>\n",
                "</ul>\n",
                "<p>Este proceso es útil para transformar datos tabulares en un formato jerárquico como XML, facilitando su integración con otros sistemas o aplicaciones que requieran este formato.</p>\n",
                "<p>A continuación se propone el código ejecutable para crear el XML.</p>\n"
            ]
        },
        {
            "cell_type": "code",
            "execution_count": 7,
            "id": "5f0a7acd",
            "metadata": {
                "kernelspec": {
                    "display_name": "nosql",
                    "language": "python",
                    "name": "python3"
                },
                "language_info": {
                    "name": "python",
                    "version": "3.13.2"
                }
            },
            "outputs": [
                {
                    "name": "stdout",
                    "output_type": "stream",
                    "text": [
                        "El archivo XML 'vgsales.xml' se ha generado correctamente.\n"
                    ]
                }
            ],
            "source": [
                "import pandas as pd\n",
                "import xml.etree.ElementTree as ET\n",
                "from xml.dom import minidom\n",
                "\n",
                "# Leer el archivo CSV\n",
                "df = pd.read_csv('dataset/vgsales.csv')\n",
                "\n",
                "# Crear el elemento raíz\n",
                "root = ET.Element(\"vgsales\")\n",
                "\n",
                "# Agrupar por plataforma y género\n",
                "for platform, platform_df in df.groupby('Platform'):\n",
                "    platform_elem = ET.SubElement(root, \"platform\", name=str(platform))\n",
                "    for genre, genre_df in platform_df.groupby('Genre'):\n",
                "        genre_elem = ET.SubElement(platform_elem, \"genre\", name=str(genre))\n",
                "        for _, row in genre_df.iterrows():\n",
                "            game_elem = ET.SubElement(genre_elem, \"game\")\n",
                "            for col in df.columns:\n",
                "                value = row[col]\n",
                "                # Convertir NaN a cadena vacía\n",
                "                if pd.isna(value):\n",
                "                    value = \"\"\n",
                "                ET.SubElement(game_elem, col).text = str(value)\n",
                "\n",
                "# Convertir el árbol de elementos en una cadena de texto XML\n",
                "xml_string = ET.tostring(root, encoding='utf-8')\n",
                "\n",
                "# Usar minidom para embellecer el XML\n",
                "dom = minidom.parseString(xml_string)\n",
                "pretty_xml_string = dom.toprettyxml(indent=\"  \")\n",
                "\n",
                "# Guardar el XML en un archivo\n",
                "with open(\"vgsales.xml\", \"w\", encoding=\"utf-8\") as f:\n",
                "    f.write(pretty_xml_string)\n",
                "\n",
                "print(\"El archivo XML 'vgsales.xml' se ha generado correctamente.\")"
            ]
        }
    ],
    "metadata": {
        "kernelspec": {
            "display_name": "nosql",
            "language": "python",
            "name": "python3"
        },
        "language_info": {
            "codemirror_mode": {
                "name": "ipython",
                "version": 3
            },
            "file_extension": ".py",
            "mimetype": "text/x-python",
            "name": "python",
            "nbconvert_exporter": "python",
            "pygments_lexer": "ipython3",
            "version": "3.13.2"
        }
    },
    "nbformat": 4,
    "nbformat_minor": 5
}
